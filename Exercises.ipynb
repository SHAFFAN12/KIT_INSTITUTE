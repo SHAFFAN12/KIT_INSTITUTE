{
  "nbformat": 4,
  "nbformat_minor": 0,
  "metadata": {
    "colab": {
      "provenance": []
    },
    "kernelspec": {
      "name": "python3",
      "display_name": "Python 3"
    },
    "language_info": {
      "name": "python"
    }
  },
  "cells": [
    {
      "cell_type": "code",
      "execution_count": 5,
      "metadata": {
        "colab": {
          "base_uri": "https://localhost:8080/"
        },
        "id": "D90Dhj-bXdXD",
        "outputId": "828a9c1a-d3a3-4d8c-8e52-425863fb3d08"
      },
      "outputs": [
        {
          "output_type": "stream",
          "name": "stdout",
          "text": [
            "Enter radius:2.4\n",
            "18.0864\n"
          ]
        }
      ],
      "source": [
        "# Exercise 1\n",
        "pi = 3.14\n",
        "var  = input(\"Enter radius:\")\n",
        "var2 = float(var)\n",
        "Circle = var2*var2*pi\n",
        "print(Circle)\n"
      ]
    },
    {
      "cell_type": "code",
      "source": [
        "# Exercise 2\n",
        "def fun():\n",
        "  x,y = input(\"Enter Two numbers:\").split()\n",
        "  if(x>y):\n",
        "    return x\n",
        "  elif(x<y):\n",
        "    return y\n",
        "fun()"
      ],
      "metadata": {
        "colab": {
          "base_uri": "https://localhost:8080/",
          "height": 53
        },
        "id": "_ZnAWzrca1YT",
        "outputId": "ebba53f0-b097-479d-82f1-d45736cef308"
      },
      "execution_count": 6,
      "outputs": [
        {
          "name": "stdout",
          "output_type": "stream",
          "text": [
            "Enter Two numbers:2 3\n"
          ]
        },
        {
          "output_type": "execute_result",
          "data": {
            "text/plain": [
              "'3'"
            ],
            "application/vnd.google.colaboratory.intrinsic+json": {
              "type": "string"
            }
          },
          "metadata": {},
          "execution_count": 6
        }
      ]
    },
    {
      "cell_type": "code",
      "source": [
        "# Exercise 3\n",
        "def elementExists(element, List):\n",
        "  for item in List:\n",
        "    if item == element:\n",
        "      return True\n",
        "\n",
        "  return False\n",
        "myList = [1,2,3,4,5,6]\n",
        "\n",
        "print(elementExists(4,myList))\n",
        "print(elementExists(8,myList))\n"
      ],
      "metadata": {
        "colab": {
          "base_uri": "https://localhost:8080/"
        },
        "id": "KcCzjNNxa71H",
        "outputId": "0fc655e2-2bd2-4c04-edbb-fb9ab2e40d89"
      },
      "execution_count": 7,
      "outputs": [
        {
          "output_type": "stream",
          "name": "stdout",
          "text": [
            "True\n",
            "False\n"
          ]
        }
      ]
    }
  ]
}