{
  "nbformat": 4,
  "nbformat_minor": 0,
  "metadata": {
    "colab": {
      "provenance": []
    },
    "kernelspec": {
      "name": "python3",
      "display_name": "Python 3"
    },
    "language_info": {
      "name": "python"
    }
  },
  "cells": [
    {
      "cell_type": "code",
      "execution_count": 1,
      "metadata": {
        "colab": {
          "base_uri": "https://localhost:8080/"
        },
        "id": "CKORqNXrdxwQ",
        "outputId": "a079e006-93ff-400a-f65e-349038bd5c82"
      },
      "outputs": [
        {
          "output_type": "stream",
          "name": "stdout",
          "text": [
            "Enter the word:SHAFFAN\n",
            "Reverse Word: NAFFAHS\n"
          ]
        }
      ],
      "source": [
        "# Question 1\n",
        "word = input(\"Enter the word:\")\n",
        "\n",
        "reverse_word = ''\n",
        "\n",
        "for char in word[::-1]:\n",
        "  reverse_word += char\n",
        "print(\"Reverse Word:\",reverse_word)\n",
        ""
      ]
    },
    {
      "cell_type": "code",
      "source": [
        "# Question 2\n",
        "def removed_duplicates(input_list):\n",
        "  return list(set(input_list))\n",
        "\n",
        "my_list = [1,2,2,3,4,4,5]\n",
        "new_list = removed_duplicates(my_list)\n",
        "\n",
        "print(\"Original list:\",my_list)\n",
        "print(\"list with distict elements:\",new_list)"
      ],
      "metadata": {
        "colab": {
          "base_uri": "https://localhost:8080/"
        },
        "id": "SQoVhglEfPOD",
        "outputId": "406e46a3-a3eb-4160-9959-3c9e6c1a4c9e"
      },
      "execution_count": 2,
      "outputs": [
        {
          "output_type": "stream",
          "name": "stdout",
          "text": [
            "Original list: [1, 2, 2, 3, 4, 4, 5]\n",
            "list with distict elements: [1, 2, 3, 4, 5]\n"
          ]
        }
      ]
    },
    {
      "cell_type": "code",
      "source": [
        "# Question 3\n",
        "def find_max():\n",
        "  x,y,z = input(\"Enter three Elements:\").split()\n",
        "\n",
        "  max_num = x\n",
        "\n",
        "  if(y > max_num):\n",
        "    max_num = y\n",
        "  if(z > max_num):\n",
        "    max_num = z\n",
        "\n",
        "  return max_num\n",
        "\n",
        "max_num = find_max()\n",
        "print(\"The Maximum number is:\",max_num)"
      ],
      "metadata": {
        "colab": {
          "base_uri": "https://localhost:8080/"
        },
        "id": "cWW93arUh8Oj",
        "outputId": "cfe551fa-ea04-496a-bb90-b27b8868d6d5"
      },
      "execution_count": 3,
      "outputs": [
        {
          "output_type": "stream",
          "name": "stdout",
          "text": [
            "Enter three Elements:2 3 5\n",
            "The Maximum number is: 5\n"
          ]
        }
      ]
    },
    {
      "cell_type": "code",
      "source": [
        "# Question 4\n",
        "def Sum(numbers):\n",
        "    total = 0\n",
        "\n",
        "    for num in numbers:\n",
        "        total += num\n",
        "    return total\n",
        "\n",
        "my_List = [1,2,3,4,5]\n",
        "\n",
        "result = Sum(my_List)\n",
        "\n",
        "print(\"Sum of all numbers is:\",result)"
      ],
      "metadata": {
        "colab": {
          "base_uri": "https://localhost:8080/"
        },
        "id": "x5_QycwdlLal",
        "outputId": "6d086307-79b0-4158-b6ce-b503879ed3b8"
      },
      "execution_count": 4,
      "outputs": [
        {
          "output_type": "stream",
          "name": "stdout",
          "text": [
            "Sum of all numbers is: 15\n"
          ]
        }
      ]
    }
  ]
}